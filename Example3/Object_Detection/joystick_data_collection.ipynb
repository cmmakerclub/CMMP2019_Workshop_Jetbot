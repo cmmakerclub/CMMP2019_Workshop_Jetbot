{
 "cells": [
  {
   "cell_type": "markdown",
   "metadata": {},
   "source": [
    "# Workshop : รถขับเคลื่อนอัตโนมัติด้วยปัญญาประดิษฐ์ (AI)\n",
    "## Chiang Mai Maker Party 07-08 December 2019"
   ]
  },
  {
   "cell_type": "markdown",
   "metadata": {},
   "source": [
    "## Example 3 : Object Detection\n",
    "\n",
    "### การเก็บข้อมูลรูปภาพ (Collect Data)\n",
    "\n",
    "การทำ Object Detection จะมีขั้นตอนดังต่อไปนี้\n",
    "- เก็บรูปภาพของวัตถุที่ต้องการจำแนก (Dataset)\n",
    "- นำรูปภาพมาเฉลย (Label Dataset)\n",
    "- เทรนโมเดล (Train)\n",
    "- ทดสอบโมเดล (Evaluate)\n"
   ]
  },
  {
   "cell_type": "markdown",
   "metadata": {},
   "source": [
    "### เรียกใช้งานไลบรารี่\n",
    "- jetcam\n",
    "- display\n",
    "- widgets\n",
    "- traitlets"
   ]
  },
  {
   "cell_type": "code",
   "execution_count": null,
   "metadata": {},
   "outputs": [],
   "source": [
    "import traitlets\n",
    "import ipywidgets.widgets as widgets\n",
    "from IPython.display import display\n",
    "\n",
    "# init jetcam camera\n",
    "from jetcam.utils import bgr8_to_jpeg\n",
    "from jetcam.csi_camera import CSICamera\n",
    "\n",
    "# set camera size to 224 x 224 30 FPS\n",
    "camera = CSICamera(width=224, height=224, capture_fps=30)\n",
    "camera.running = True\n",
    "\n",
    "from jetbot import Robot\n",
    "robot = Robot()\n",
    "\n",
    "from uuid import uuid1\n",
    "import os\n",
    "import json\n",
    "import glob\n",
    "import datetime\n",
    "import numpy as np\n",
    "import cv2\n",
    "import time\n",
    "\n",
    "print(\"Jetbot Start........\")"
   ]
  },
  {
   "cell_type": "markdown",
   "metadata": {},
   "source": [
    "### แสดงภาพจากกล้อง"
   ]
  },
  {
   "cell_type": "code",
   "execution_count": null,
   "metadata": {},
   "outputs": [],
   "source": [
    "image_widget = widgets.Image(format='jpeg', width=200, height=200)\n",
    "\n",
    "x_slider = 0\n",
    "y_slider = 0\n",
    "       \n",
    "def display_xy(camera_image):\n",
    "    image = np.copy(camera_image)\n",
    "    print(image.shape)\n",
    "    jpeg_image = bgr8_to_jpeg(image)\n",
    "    return jpeg_image\n",
    "\n",
    "time.sleep(1)\n",
    "traitlets.dlink((camera, 'value'), (image_widget, 'value'), transform=bgr8_to_jpeg)\n",
    "display(image_widget)"
   ]
  },
  {
   "cell_type": "markdown",
   "metadata": {},
   "source": [
    "### เรียกใช้งาน Gamepad"
   ]
  },
  {
   "cell_type": "code",
   "execution_count": null,
   "metadata": {},
   "outputs": [],
   "source": [
    "from inputs import get_gamepad\n",
    "import time\n",
    "import sys\n",
    "import numpy as np\n",
    "import threading\n",
    "\n",
    "\n",
    "motor_left_value = 0\n",
    "motor_right_value = 0\n",
    "\n",
    "x_val = 0\n",
    "y_val = 0"
   ]
  },
  {
   "cell_type": "markdown",
   "metadata": {},
   "source": [
    "### สร้าง thread เพื่ออ่านค่าจาก Gamepad"
   ]
  },
  {
   "cell_type": "code",
   "execution_count": null,
   "metadata": {},
   "outputs": [],
   "source": [
    "import threading\n",
    "\n",
    "img_count = 0\n",
    "\n",
    "def thread_function(name):\n",
    "    while True:\n",
    "        motor_r = .3 * y_val - .15 * x_val\n",
    "        motor_l = .3 * y_val + .15 * x_val\n",
    "\n",
    "        robot.left_motor.value = motor_l\n",
    "        robot.right_motor.value = motor_r\n",
    "\n",
    "x = threading.Thread(target=thread_function, args=(2,))\n",
    "x.start()\n",
    "\n",
    "def throttle(state):\n",
    "    global y_val\n",
    "    global motor_left_value, motor_right_value\n",
    "    y_val = np.interp(state, [0, 255], [0.9, -0.9])\n",
    "\n",
    "def steering(state):\n",
    "    global x_val\n",
    "    global left_factor, right_factor\n",
    "    global motor_left_value, motor_right_value\n",
    "    x_val = np.interp(state, [0, 255], [-0.9, 0.9])"
   ]
  },
  {
   "cell_type": "markdown",
   "metadata": {},
   "source": [
    "### แก้ไขชื่อไฟล์ที่จะทำการบันทึกรูปภาพ\n",
    "\n",
    "file = \"ชื่อ path ที่ต้องการบันทึก/{0}{1}.jpg\".format(\"ชื่อวัตถุ\", img_count)\n",
    "\n",
    "file = \"data/{0}{1}.jpg\".format(\"human\", img_count)\n",
    "\n",
    "สามารถแก้ไขคำว่า car เป็นชื่อของวัตถุที่ต้องการ Detect"
   ]
  },
  {
   "cell_type": "code",
   "execution_count": null,
   "metadata": {},
   "outputs": [],
   "source": [
    "def read_joystick(state):\n",
    "    global img_count\n",
    "    img_count = img_count + 1\n",
    "    file = \"data/images/{0}{1}.jpg\".format(\"human\", img_count)\n",
    "    print(file)\n",
    "    cv2.imwrite(file, camera.value)\n",
    "    time.sleep(.5)\n",
    "        \n",
    "event_lut = {\n",
    "    'ABS_Y': throttle,\n",
    "    'ABS_Z': steering,\n",
    "    'BTN_TL':read_joystick,\n",
    "}"
   ]
  },
  {
   "cell_type": "markdown",
   "metadata": {},
   "source": [
    "### เริ่มต้นการทำงานโปรแกรม"
   ]
  },
  {
   "cell_type": "code",
   "execution_count": null,
   "metadata": {},
   "outputs": [],
   "source": [
    "def main():\n",
    "    events = get_gamepad()\n",
    "    for event in events:\n",
    "        call = event_lut.get(event.code)\n",
    "        if callable(call):\n",
    "            call(event.state)\n",
    "\n",
    "if __name__ == \"__main__\":\n",
    "    try:\n",
    "        while True:\n",
    "            main()\n",
    "    except KeyboardInterrupt:\n",
    "        robot.stop()\n",
    "        x.stop()\n",
    "        print(\"Bye!\")"
   ]
  }
 ],
 "metadata": {
  "kernelspec": {
   "display_name": "Python 3",
   "language": "python",
   "name": "python3"
  },
  "language_info": {
   "codemirror_mode": {
    "name": "ipython",
    "version": 3
   },
   "file_extension": ".py",
   "mimetype": "text/x-python",
   "name": "python",
   "nbconvert_exporter": "python",
   "pygments_lexer": "ipython3",
   "version": "3.6.9"
  }
 },
 "nbformat": 4,
 "nbformat_minor": 4
}
