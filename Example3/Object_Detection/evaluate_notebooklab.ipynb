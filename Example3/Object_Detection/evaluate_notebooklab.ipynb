{
 "cells": [
  {
   "cell_type": "markdown",
   "metadata": {},
   "source": [
    "# Workshop : รถขับเคลื่อนอัตโนมัติด้วยปัญญาประดิษฐ์ (AI)\n",
    "## Chiang Mai Maker Party 07-08 December 2019"
   ]
  },
  {
   "cell_type": "markdown",
   "metadata": {},
   "source": [
    "## Example 3 : Object Detection\n",
    "\n",
    "### การทดสอบโมเดล (Evaluate)\n"
   ]
  },
  {
   "cell_type": "markdown",
   "metadata": {},
   "source": [
    "### เรียกใช้งานไลบรารี่"
   ]
  },
  {
   "cell_type": "code",
   "execution_count": null,
   "metadata": {},
   "outputs": [],
   "source": [
    "import argparse\n",
    "import json\n",
    "import cv2\n",
    "import numpy as np\n",
    "from yolo.frontend import create_yolo\n",
    "from yolo.backend.utils.box import draw_scaled_boxes\n",
    "from yolo.backend.utils.annotation import parse_annotation\n",
    "from yolo.backend.utils.eval.fscore import count_true_positives, calc_score\n",
    "\n",
    "from pascal_voc_writer import Writer\n",
    "from shutil import copyfile\n",
    "import os\n",
    "import yolo"
   ]
  },
  {
   "cell_type": "markdown",
   "metadata": {},
   "source": [
    "### เรียกใช้งาน Artificial Neural Network(ANN) "
   ]
  },
  {
   "cell_type": "code",
   "execution_count": null,
   "metadata": {},
   "outputs": [],
   "source": [
    "def create_ann(filename, image, boxes, labels,label_list):\n",
    "    copyfile(os.path.join('tests/dataset/svhn/numbers_pics',filename), 'imgs/'+filename)\n",
    "    writer = Writer(os.path.join('tests/dataset/svhn/numbers_pics',filename), 224, 224)\n",
    "    writer.addObject(label_list[labels[0]], boxes[0][0], boxes[0][1], boxes[0][2], boxes[0][3])\n",
    "    name = filename.split('.')\n",
    "    writer.save('ann/'+name[0]+'.xml')"
   ]
  },
  {
   "cell_type": "markdown",
   "metadata": {},
   "source": [
    "### โหลดไฟล์ config.json และ Model\n",
    "\n",
    "โหลดโมเดลด้วยคำสั่ง yolo.load_weights(\"model.h5\")"
   ]
  },
  {
   "cell_type": "code",
   "execution_count": null,
   "metadata": {},
   "outputs": [],
   "source": [
    "from yolo.frontend import create_yolo\n",
    "from yolo.backend.utils.box import draw_scaled_boxes\n",
    "from yolo.backend.utils.annotation import parse_annotation\n",
    "from yolo.backend.utils.eval.fscore import count_true_positives, calc_score\n",
    "import yolo.backend.utils.box as box\n",
    "\n",
    "with open(\"data/config.json\") as config_buffer:\n",
    "    config = json.loads(config_buffer.read())\n",
    "    \n",
    "yolo = create_yolo(config['model']['architecture'],\n",
    "                   config['model']['labels'],\n",
    "                   config['model']['input_size'],\n",
    "                   config['model']['anchors'])\n",
    "yolo.load_weights(\"jetbot_demo.h5\")"
   ]
  },
  {
   "cell_type": "code",
   "execution_count": null,
   "metadata": {},
   "outputs": [],
   "source": [
    "import traitlets\n",
    "import ipywidgets\n",
    "import ipywidgets.widgets as widgets\n",
    "from IPython.display import display\n",
    "import numpy as np\n",
    "import cv2\n",
    "\n",
    "# init jetcam camera\n",
    "from jetcam.utils import bgr8_to_jpeg\n",
    "from jetcam.csi_camera import CSICamera\n",
    "\n",
    "camera = CSICamera(width=224, height=224, capture_fps=30)\n",
    "camera.running = True\n"
   ]
  },
  {
   "cell_type": "markdown",
   "metadata": {},
   "source": [
    "### เปิดกล้องจากหุ่นยนต์ Jetbot"
   ]
  },
  {
   "cell_type": "code",
   "execution_count": null,
   "metadata": {},
   "outputs": [],
   "source": [
    "image = camera.value\n",
    "image_widget = ipywidgets.Image(format='jpeg')\n",
    "label_widget = ipywidgets.Label()\n",
    "image_widget.value = bgr8_to_jpeg(image)\n",
    "\n",
    "display(image_widget, label_widget)"
   ]
  },
  {
   "cell_type": "markdown",
   "metadata": {},
   "source": [
    "### รันโปรแกรมเพื่อ predict และแสดงผล"
   ]
  },
  {
   "cell_type": "code",
   "execution_count": null,
   "metadata": {},
   "outputs": [],
   "source": [
    "camera.running = True\n",
    "try:\n",
    "    while 1 :\n",
    "        image = camera.value\n",
    "\n",
    "        boxes, probs = yolo.predict(image, 0.7)\n",
    "        image = box.draw_boxes(image, boxes, probs, config['model']['labels'])\n",
    "        image_widget.value = bgr8_to_jpeg(image)\n",
    "        \n",
    "except KeyboardInterrupt:\n",
    "    camera.running = False"
   ]
  },
  {
   "cell_type": "code",
   "execution_count": null,
   "metadata": {},
   "outputs": [],
   "source": []
  }
 ],
 "metadata": {
  "kernelspec": {
   "display_name": "Python 3",
   "language": "python",
   "name": "python3"
  },
  "language_info": {
   "codemirror_mode": {
    "name": "ipython",
    "version": 3
   },
   "file_extension": ".py",
   "mimetype": "text/x-python",
   "name": "python",
   "nbconvert_exporter": "python",
   "pygments_lexer": "ipython3",
   "version": "3.6.8"
  }
 },
 "nbformat": 4,
 "nbformat_minor": 4
}
