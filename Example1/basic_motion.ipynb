{
 "cells": [
  {
   "cell_type": "markdown",
   "metadata": {},
   "source": [
    "# Workshop : รถขับเคลื่อนอัตโนมัติด้วยปัญญาประดิษฐ์ (AI)\n",
    "## Chiang Mai Maker Party 07-08 December 2019"
   ]
  },
  {
   "cell_type": "markdown",
   "metadata": {},
   "source": [
    "## Example 1 : Basic Motion\n",
    "\n",
    "เริ่มต้นควบคุมหุ่นยนต์ Jetbot โดยเรียกใช้งานผ่าน JupyterLab จะเป็นการศึกษาคำสั่งในการควบคุมมอเตอร์ และสร้างปุ่มกดสำหรับควบคุมหุ่นยนต์ผ่าน webbrowser โดยผู้เรียนสามารถรันโปรแกรมทีละ step เพื่อศึกษาขั้นตอนการเรียกใช้งานโปรแกรม และการควบคุมหุ่นยนต์"
   ]
  },
  {
   "cell_type": "markdown",
   "metadata": {},
   "source": [
    "- ประกาศใช้งานไลบารี่ ``Robot``"
   ]
  },
  {
   "cell_type": "code",
   "execution_count": null,
   "metadata": {},
   "outputs": [],
   "source": [
    "from jetbot import Robot"
   ]
  },
  {
   "cell_type": "markdown",
   "metadata": {},
   "source": [
    "- สร้าง Class ชื่อ robot"
   ]
  },
  {
   "cell_type": "code",
   "execution_count": null,
   "metadata": {},
   "outputs": [],
   "source": [
    "robot = Robot()"
   ]
  },
  {
   "cell_type": "markdown",
   "metadata": {},
   "source": [
    "### คำสั่ง left(speed)\n",
    "สั่งงานให้หุ่นยนต์หมุนไปทางซ้าย โดยเคลื่อนที่ด้วยความเร็ว 20%\n",
    "\n",
    "> ข้อควรระวัง: คำสั่งต่อไปนี้จะทำให้หุ่นยนต์ขยับ โปรดวางหุ่นยนต์ที่พื้นโล่ง ก่อนทำการรันโปรแกรม"
   ]
  },
  {
   "cell_type": "code",
   "execution_count": null,
   "metadata": {},
   "outputs": [],
   "source": [
    "robot.left(speed=0.2)"
   ]
  },
  {
   "cell_type": "markdown",
   "metadata": {},
   "source": [
    "### คำสั่ง stop()\n",
    "สั่งงานให้หุ่นยนต์หยุดทำงาน"
   ]
  },
  {
   "cell_type": "code",
   "execution_count": null,
   "metadata": {},
   "outputs": [],
   "source": [
    "robot.stop()"
   ]
  },
  {
   "cell_type": "markdown",
   "metadata": {},
   "source": [
    "- ประกาศใช้งานไลบารี่ ``time`` สำหรับหน่วงเวลาการทำงาน"
   ]
  },
  {
   "cell_type": "code",
   "execution_count": null,
   "metadata": {},
   "outputs": [],
   "source": [
    "import time"
   ]
  },
  {
   "cell_type": "markdown",
   "metadata": {},
   "source": [
    "- สั่งงานให้หุ่นยนต์หมุนไปทางซ้ายด้วยความเร็ว 30% เป็นเวลา 0.5 วินาที และหยุดหุ่นยนต์"
   ]
  },
  {
   "cell_type": "code",
   "execution_count": null,
   "metadata": {},
   "outputs": [],
   "source": [
    "robot.left(0.3)\n",
    "time.sleep(0.5)\n",
    "robot.stop()"
   ]
  },
  {
   "cell_type": "markdown",
   "metadata": {},
   "source": [
    "- ทดลองเขียนโปรแกรมควบคุมหุ่นยนต์ให้เดินหน้า เลี้ยวซ้าย เลี้ยวขวา และถอยหลัง"
   ]
  },
  {
   "cell_type": "code",
   "execution_count": null,
   "metadata": {},
   "outputs": [],
   "source": [
    "robot.forward(0.2)\n",
    "time.sleep(0.5)\n",
    "\n",
    "robot.left(0.15)\n",
    "time.sleep(0.5)\n",
    "\n",
    "robot.right(0.15)\n",
    "time.sleep(0.5)\n",
    "\n",
    "robot.backward(0.2)\n",
    "time.sleep(0.5)\n",
    "\n",
    "robot.stop()"
   ]
  },
  {
   "cell_type": "markdown",
   "metadata": {},
   "source": [
    "### คำสั่ง set_motors(motorLeft, motorRight)\n",
    "จากโปรแกรม จะเป็นการใช้งานคำสั่ง ``set_motors`` โดยให้มอเตอร์ซ้ายหมุนที่ความเร็ว 30% และมอเตอร์ขวา 60%"
   ]
  },
  {
   "cell_type": "code",
   "execution_count": null,
   "metadata": {},
   "outputs": [],
   "source": [
    "robot.set_motors(0.3, 0.6)\n",
    "time.sleep(0.5)\n",
    "robot.stop()"
   ]
  },
  {
   "cell_type": "markdown",
   "metadata": {},
   "source": [
    "### คำสั่ง left_motor.value และ right_motor.value\n",
    "จากโปรแกรม จะเป็นการใช้งานคำสั่ง ``left_motor.value`` และ ``right_motor.value``"
   ]
  },
  {
   "cell_type": "code",
   "execution_count": null,
   "metadata": {},
   "outputs": [],
   "source": [
    "robot.left_motor.value = 0.3\n",
    "robot.right_motor.value = 0.6\n",
    "time.sleep(1.0)\n",
    "robot.left_motor.value = 0.0\n",
    "robot.right_motor.value = 0.0"
   ]
  },
  {
   "cell_type": "markdown",
   "metadata": {},
   "source": [
    "### การควบคุมหุ่นยนต์ด้วย events และสร้าง widget ปุ่มกด"
   ]
  },
  {
   "cell_type": "markdown",
   "metadata": {},
   "source": [
    "Another way to use traitlets, is by attaching functions (like ``forward``) to events.  These\n",
    "functions will get called whenever a change to the object occurs, and will be passed some information about that change\n",
    "like the ``old`` value and the ``new`` value.  \n",
    "\n",
    "Let's create and display some buttons that we'll use to control the robot."
   ]
  },
  {
   "cell_type": "markdown",
   "metadata": {},
   "source": [
    "#### สร้างฟังก์ชันในการควบคุมหุ่นยนต์"
   ]
  },
  {
   "cell_type": "code",
   "execution_count": null,
   "metadata": {},
   "outputs": [],
   "source": [
    "def stop(change):\n",
    "    robot.stop()\n",
    "    \n",
    "def step_forward(change):\n",
    "    robot.forward(0.4)\n",
    "#     time.sleep(0.5)\n",
    "#     robot.stop()\n",
    "\n",
    "def step_backward(change):\n",
    "    robot.backward(0.4)\n",
    "#     time.sleep(0.5)\n",
    "#     robot.stop()\n",
    "\n",
    "def step_left(change):\n",
    "    robot.left(0.3)\n",
    "#     time.sleep(0.5)\n",
    "#     robot.stop()\n",
    "\n",
    "def step_right(change):\n",
    "    robot.right(0.3)\n",
    "#     time.sleep(0.5)\n",
    "#     robot.stop()"
   ]
  },
  {
   "cell_type": "markdown",
   "metadata": {},
   "source": [
    "#### สร้าง Widget ปุ่มกด"
   ]
  },
  {
   "cell_type": "code",
   "execution_count": null,
   "metadata": {},
   "outputs": [],
   "source": [
    "# create buttons\n",
    "button_layout = widgets.Layout(width='100px', height='80px', align_self='center')\n",
    "stop_button = widgets.Button(description='stop', button_style='danger', layout=button_layout)\n",
    "forward_button = widgets.Button(description='forward', layout=button_layout)\n",
    "backward_button = widgets.Button(description='backward', layout=button_layout)\n",
    "left_button = widgets.Button(description='left', layout=button_layout)\n",
    "right_button = widgets.Button(description='right', layout=button_layout)\n",
    "\n",
    "# display buttons\n",
    "middle_box = widgets.HBox([left_button, stop_button, right_button], layout=widgets.Layout(align_self='center'))\n",
    "controls_box = widgets.VBox([forward_button, middle_box, backward_button])\n",
    "display(controls_box)"
   ]
  },
  {
   "cell_type": "markdown",
   "metadata": {},
   "source": [
    "#### สร้าง Event เพื่อเชื่อมต่อการทำงานกับปุมกด"
   ]
  },
  {
   "cell_type": "code",
   "execution_count": null,
   "metadata": {},
   "outputs": [],
   "source": [
    "# link buttons to actions\n",
    "stop_button.on_click(stop)\n",
    "forward_button.on_click(step_forward)\n",
    "backward_button.on_click(step_backward)\n",
    "left_button.on_click(step_left)\n",
    "right_button.on_click(step_right)"
   ]
  },
  {
   "cell_type": "markdown",
   "metadata": {},
   "source": [
    "### การควบคุมหุ่นยนต์ด้วย Gamepad\n",
    "#### เรียกใช้งานไลบรารี่ ``Robot``"
   ]
  },
  {
   "cell_type": "code",
   "execution_count": null,
   "metadata": {},
   "outputs": [],
   "source": [
    "from jetbot import Robot\n",
    "\n",
    "robot = Robot()"
   ]
  },
  {
   "cell_type": "markdown",
   "metadata": {},
   "source": [
    "#### เรียกใช้งาน Gamepad จากไลบรารี่ inputs "
   ]
  },
  {
   "cell_type": "code",
   "execution_count": null,
   "metadata": {},
   "outputs": [],
   "source": [
    "from inputs import get_gamepad\n",
    "import numpy as np\n",
    "\n",
    "print(\"Jetbot Start........\")"
   ]
  },
  {
   "cell_type": "markdown",
   "metadata": {},
   "source": [
    "#### สร้าง Thread สำหรับอ่านค่าจาก Gamepad"
   ]
  },
  {
   "cell_type": "code",
   "execution_count": null,
   "metadata": {},
   "outputs": [],
   "source": [
    "import threading\n",
    "\n",
    "motor_speed = 0.3\n",
    "turn_speed = 0.15\n",
    "\n",
    "x_val = 0\n",
    "y_val = 0\n",
    "\n",
    "def thread_function(name):\n",
    "    while True:\n",
    "        robot.left_motor.value = motor_speed * y_val + turn_speed * x_val\n",
    "        robot.right_motor.value = motor_speed * y_val - turn_speed * x_val\n",
    "\n",
    "x = threading.Thread(target=thread_function, args=(2,))\n",
    "x.start()"
   ]
  },
  {
   "cell_type": "markdown",
   "metadata": {},
   "source": [
    "#### สร้างฟังก์ชันสำหรับควบคุมหุ่นยนต์"
   ]
  },
  {
   "cell_type": "code",
   "execution_count": null,
   "metadata": {},
   "outputs": [],
   "source": [
    "def throttle(state):\n",
    "    global y_val\n",
    "    global motor_left_value, motor_right_value\n",
    "    y_val = np.interp(state, [0, 255], [0.9, -0.9])\n",
    "\n",
    "def steering(state):\n",
    "    global x_val\n",
    "    global left_factor, right_factor\n",
    "    global motor_left_value, motor_right_value\n",
    "    x_val = np.interp(state, [0, 255], [-0.9, 0.9])\n",
    "\n",
    "event_lut = {\n",
    "    'ABS_Y': throttle,\n",
    "    'ABS_Z': steering,\n",
    "}"
   ]
  },
  {
   "cell_type": "markdown",
   "metadata": {},
   "source": [
    "#### สั่งโปรแกรมให้ทำงาน"
   ]
  },
  {
   "cell_type": "code",
   "execution_count": null,
   "metadata": {},
   "outputs": [],
   "source": [
    "def main():\n",
    "    events = get_gamepad()\n",
    "    for event in events:\n",
    "        call = event_lut.get(event.code)\n",
    "        print(event.code, event.state)\n",
    "        \n",
    "        if callable(call):\n",
    "            call(event.state)\n",
    "\n",
    "if __name__ == \"__main__\":\n",
    "    try:\n",
    "        while True:\n",
    "            main()\n",
    "    except KeyboardInterrupt:\n",
    "        x._stop()\n",
    "        robot.stop()"
   ]
  },
  {
   "cell_type": "code",
   "execution_count": null,
   "metadata": {},
   "outputs": [],
   "source": []
  }
 ],
 "metadata": {
  "kernelspec": {
   "display_name": "Python 3",
   "language": "python",
   "name": "python3"
  },
  "language_info": {
   "codemirror_mode": {
    "name": "ipython",
    "version": 3
   },
   "file_extension": ".py",
   "mimetype": "text/x-python",
   "name": "python",
   "nbconvert_exporter": "python",
   "pygments_lexer": "ipython3",
   "version": "3.6.8"
  }
 },
 "nbformat": 4,
 "nbformat_minor": 4
}
